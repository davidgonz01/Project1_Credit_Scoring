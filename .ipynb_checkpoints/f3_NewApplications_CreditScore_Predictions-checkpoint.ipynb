{
 "cells": [
  {
   "cell_type": "markdown",
   "metadata": {
    "id": "v6M3JjqF23xB"
   },
   "source": [
    "**In this Credit Score Prediction file, we shall use our Credit Scoring model** that we exported to our project folder (f1_classifier) - in previous code file - **to predict Credit Scores for New Loan Applications file (e_NewApplications)**."
   ]
  },
  {
   "cell_type": "markdown",
   "metadata": {
    "id": "tLLLopyLmOxU"
   },
   "source": [
    "### Importing libraries & functions\n",
    "\n",
    "\n",
    "\n"
   ]
  },
  {
   "cell_type": "code",
   "execution_count": 1,
   "metadata": {
    "executionInfo": {
     "elapsed": 500,
     "status": "ok",
     "timestamp": 1638208772038,
     "user": {
      "displayName": "SKILLCATE",
      "photoUrl": "https://lh3.googleusercontent.com/a-/AOh14GhT5e7MnDmh2dcfNhKDOV8oRoeRJVinedzmD2Su=s64",
      "userId": "11062674699417926870"
     },
     "user_tz": -330
    },
    "id": "Z0zpJk7CmHiH"
   },
   "outputs": [],
   "source": [
    "import pandas as pd\n",
    "import numpy as np\n",
    "\n",
    "from sklearn.model_selection import train_test_split\n",
    "from sklearn.preprocessing import StandardScaler\n",
    "from sklearn.metrics import classification_report, confusion_matrix, accuracy_score\n",
    "from sklearn.linear_model import LogisticRegression"
   ]
  },
  {
   "cell_type": "markdown",
   "metadata": {
    "id": "d3KLBB_ajJPf"
   },
   "source": [
    "### Importing dataset"
   ]
  },
  {
   "cell_type": "code",
   "execution_count": 2,
   "metadata": {
    "colab": {
     "base_uri": "https://localhost:8080/"
    },
    "executionInfo": {
     "elapsed": 21,
     "status": "ok",
     "timestamp": 1638208772550,
     "user": {
      "displayName": "SKILLCATE",
      "photoUrl": "https://lh3.googleusercontent.com/a-/AOh14GhT5e7MnDmh2dcfNhKDOV8oRoeRJVinedzmD2Su=s64",
      "userId": "11062674699417926870"
     },
     "user_tz": -330
    },
    "id": "Jt3V_IVhj16o",
    "outputId": "c1217568-94a5-4ac7-e943-fbae32da41f1"
   },
   "outputs": [
    {
     "ename": "ModuleNotFoundError",
     "evalue": "No module named 'google'",
     "output_type": "error",
     "traceback": [
      "\u001b[1;31m---------------------------------------------------------------------------\u001b[0m",
      "\u001b[1;31mModuleNotFoundError\u001b[0m                       Traceback (most recent call last)",
      "\u001b[1;32m~\\AppData\\Local\\Temp\\ipykernel_7608\\1408506528.py\u001b[0m in \u001b[0;36m<module>\u001b[1;34m\u001b[0m\n\u001b[1;32m----> 1\u001b[1;33m \u001b[1;32mfrom\u001b[0m \u001b[0mgoogle\u001b[0m\u001b[1;33m.\u001b[0m\u001b[0mcolab\u001b[0m \u001b[1;32mimport\u001b[0m \u001b[0mdrive\u001b[0m\u001b[1;33m\u001b[0m\u001b[1;33m\u001b[0m\u001b[0m\n\u001b[0m\u001b[0;32m      2\u001b[0m \u001b[0mdrive\u001b[0m\u001b[1;33m.\u001b[0m\u001b[0mmount\u001b[0m\u001b[1;33m(\u001b[0m\u001b[1;34m'/content/drive'\u001b[0m\u001b[1;33m)\u001b[0m\u001b[1;33m\u001b[0m\u001b[1;33m\u001b[0m\u001b[0m\n",
      "\u001b[1;31mModuleNotFoundError\u001b[0m: No module named 'google'"
     ]
    }
   ],
   "source": [
    "from google.colab import drive\n",
    "drive.mount('/content/drive')"
   ]
  },
  {
   "cell_type": "code",
   "execution_count": 5,
   "metadata": {
    "colab": {
     "base_uri": "https://localhost:8080/"
    },
    "executionInfo": {
     "elapsed": 14,
     "status": "ok",
     "timestamp": 1638208772551,
     "user": {
      "displayName": "SKILLCATE",
      "photoUrl": "https://lh3.googleusercontent.com/a-/AOh14GhT5e7MnDmh2dcfNhKDOV8oRoeRJVinedzmD2Su=s64",
      "userId": "11062674699417926870"
     },
     "user_tz": -330
    },
    "id": "a5BrHGMEjyL5",
    "outputId": "fa360d4a-377d-46d9-9fc3-0391e89bcc30"
   },
   "outputs": [
    {
     "name": "stdout",
     "output_type": "stream",
     "text": [
      "C:\\Users\\Gonzalez\\Documents\\dataScience\\Project1_Credit_Scoring-20230122T180707Z-001\\Project1_Credit_Scoring\n"
     ]
    }
   ],
   "source": [
    "%cd C:/Users/Gonzalez/Documents/dataScience/Project1_Credit_Scoring-20230122T180707Z-001/Project1_Credit_Scoring\n",
    "# !pwd"
   ]
  },
  {
   "cell_type": "code",
   "execution_count": 42,
   "metadata": {
    "executionInfo": {
     "elapsed": 11,
     "status": "ok",
     "timestamp": 1638208772551,
     "user": {
      "displayName": "SKILLCATE",
      "photoUrl": "https://lh3.googleusercontent.com/a-/AOh14GhT5e7MnDmh2dcfNhKDOV8oRoeRJVinedzmD2Su=s64",
      "userId": "11062674699417926870"
     },
     "user_tz": -330
    },
    "id": "xXULP25MrAWX"
   },
   "outputs": [],
   "source": [
    "dataset=pd.read_excel(\"e_NewApplications_CreditScore_Needed.xlsx\")\n",
    "# !ls"
   ]
  },
  {
   "cell_type": "markdown",
   "metadata": {
    "id": "BKEq_6x1mYTL"
   },
   "source": [
    "### Data preparation"
   ]
  },
  {
   "cell_type": "code",
   "execution_count": 43,
   "metadata": {
    "colab": {
     "base_uri": "https://localhost:8080/"
    },
    "executionInfo": {
     "elapsed": 11,
     "status": "ok",
     "timestamp": 1638208772551,
     "user": {
      "displayName": "SKILLCATE",
      "photoUrl": "https://lh3.googleusercontent.com/a-/AOh14GhT5e7MnDmh2dcfNhKDOV8oRoeRJVinedzmD2Su=s64",
      "userId": "11062674699417926870"
     },
     "user_tz": -330
    },
    "id": "9V3vK-KsjeEY",
    "outputId": "7615c015-e6b2-4d35-929d-aaf425e8db5b"
   },
   "outputs": [
    {
     "data": {
      "text/plain": [
       "(30, 29)"
      ]
     },
     "execution_count": 43,
     "metadata": {},
     "output_type": "execute_result"
    }
   ],
   "source": [
    "# shows count of rows and columns\n",
    "dataset.shape"
   ]
  },
  {
   "cell_type": "code",
   "execution_count": 44,
   "metadata": {
    "colab": {
     "base_uri": "https://localhost:8080/",
     "height": 226
    },
    "executionInfo": {
     "elapsed": 9,
     "status": "ok",
     "timestamp": 1638208772552,
     "user": {
      "displayName": "SKILLCATE",
      "photoUrl": "https://lh3.googleusercontent.com/a-/AOh14GhT5e7MnDmh2dcfNhKDOV8oRoeRJVinedzmD2Su=s64",
      "userId": "11062674699417926870"
     },
     "user_tz": -330
    },
    "id": "82u-muk25Ahf",
    "outputId": "eaaac4af-29a7-4ab1-ac2a-b7f1ec2d6fe0"
   },
   "outputs": [
    {
     "data": {
      "text/html": [
       "<div>\n",
       "<style scoped>\n",
       "    .dataframe tbody tr th:only-of-type {\n",
       "        vertical-align: middle;\n",
       "    }\n",
       "\n",
       "    .dataframe tbody tr th {\n",
       "        vertical-align: top;\n",
       "    }\n",
       "\n",
       "    .dataframe thead th {\n",
       "        text-align: right;\n",
       "    }\n",
       "</style>\n",
       "<table border=\"1\" class=\"dataframe\">\n",
       "  <thead>\n",
       "    <tr style=\"text-align: right;\">\n",
       "      <th></th>\n",
       "      <th>ID</th>\n",
       "      <th>DerogCnt</th>\n",
       "      <th>CollectCnt</th>\n",
       "      <th>BanruptcyInd</th>\n",
       "      <th>InqCnt06</th>\n",
       "      <th>InqTimeLast</th>\n",
       "      <th>InqFinanceCnt24</th>\n",
       "      <th>TLTimeFirst</th>\n",
       "      <th>TLTimeLast</th>\n",
       "      <th>TLCnt03</th>\n",
       "      <th>TLCnt12</th>\n",
       "      <th>TLCnt24</th>\n",
       "      <th>TLCnt</th>\n",
       "      <th>TLSum</th>\n",
       "      <th>TLMaxSum</th>\n",
       "      <th>TLSatCnt</th>\n",
       "      <th>TLDel60Cnt</th>\n",
       "      <th>TLBadCnt24</th>\n",
       "      <th>TL75UtilCnt</th>\n",
       "      <th>TL50UtilCnt</th>\n",
       "      <th>TLBalHCPct</th>\n",
       "      <th>TLSatPct</th>\n",
       "      <th>TLDel3060Cnt24</th>\n",
       "      <th>TLDel90Cnt24</th>\n",
       "      <th>TLDel60CntAll</th>\n",
       "      <th>TLOpenPct</th>\n",
       "      <th>TLBadDerogCnt</th>\n",
       "      <th>TLDel60Cnt24</th>\n",
       "      <th>TLOpen24Pct</th>\n",
       "    </tr>\n",
       "  </thead>\n",
       "  <tbody>\n",
       "    <tr>\n",
       "      <th>0</th>\n",
       "      <td>7140</td>\n",
       "      <td>3</td>\n",
       "      <td>2</td>\n",
       "      <td>0</td>\n",
       "      <td>0</td>\n",
       "      <td>11.0</td>\n",
       "      <td>0</td>\n",
       "      <td>90</td>\n",
       "      <td>9</td>\n",
       "      <td>0</td>\n",
       "      <td>1</td>\n",
       "      <td>3</td>\n",
       "      <td>3</td>\n",
       "      <td>4722</td>\n",
       "      <td>5462</td>\n",
       "      <td>8</td>\n",
       "      <td>2</td>\n",
       "      <td>1</td>\n",
       "      <td>2.0</td>\n",
       "      <td>2.0</td>\n",
       "      <td>0.8645</td>\n",
       "      <td>0.1667</td>\n",
       "      <td>2</td>\n",
       "      <td>2</td>\n",
       "      <td>4</td>\n",
       "      <td>0.2500</td>\n",
       "      <td>3</td>\n",
       "      <td>3</td>\n",
       "      <td>1.0000</td>\n",
       "    </tr>\n",
       "    <tr>\n",
       "      <th>1</th>\n",
       "      <td>7163</td>\n",
       "      <td>4</td>\n",
       "      <td>2</td>\n",
       "      <td>1</td>\n",
       "      <td>3</td>\n",
       "      <td>3.0</td>\n",
       "      <td>2</td>\n",
       "      <td>221</td>\n",
       "      <td>3</td>\n",
       "      <td>1</td>\n",
       "      <td>1</td>\n",
       "      <td>1</td>\n",
       "      <td>3</td>\n",
       "      <td>6918</td>\n",
       "      <td>10212</td>\n",
       "      <td>9</td>\n",
       "      <td>5</td>\n",
       "      <td>2</td>\n",
       "      <td>1.0</td>\n",
       "      <td>2.0</td>\n",
       "      <td>0.6774</td>\n",
       "      <td>0.3333</td>\n",
       "      <td>0</td>\n",
       "      <td>2</td>\n",
       "      <td>5</td>\n",
       "      <td>0.2000</td>\n",
       "      <td>3</td>\n",
       "      <td>2</td>\n",
       "      <td>0.3333</td>\n",
       "    </tr>\n",
       "    <tr>\n",
       "      <th>2</th>\n",
       "      <td>122900</td>\n",
       "      <td>0</td>\n",
       "      <td>0</td>\n",
       "      <td>0</td>\n",
       "      <td>11</td>\n",
       "      <td>1.0</td>\n",
       "      <td>13</td>\n",
       "      <td>152</td>\n",
       "      <td>2</td>\n",
       "      <td>2</td>\n",
       "      <td>8</td>\n",
       "      <td>13</td>\n",
       "      <td>7</td>\n",
       "      <td>27342</td>\n",
       "      <td>32663</td>\n",
       "      <td>22</td>\n",
       "      <td>0</td>\n",
       "      <td>0</td>\n",
       "      <td>4.0</td>\n",
       "      <td>5.0</td>\n",
       "      <td>0.8371</td>\n",
       "      <td>0.5758</td>\n",
       "      <td>1</td>\n",
       "      <td>0</td>\n",
       "      <td>0</td>\n",
       "      <td>0.2121</td>\n",
       "      <td>0</td>\n",
       "      <td>0</td>\n",
       "      <td>1.8571</td>\n",
       "    </tr>\n",
       "    <tr>\n",
       "      <th>3</th>\n",
       "      <td>7226</td>\n",
       "      <td>1</td>\n",
       "      <td>1</td>\n",
       "      <td>0</td>\n",
       "      <td>2</td>\n",
       "      <td>1.0</td>\n",
       "      <td>4</td>\n",
       "      <td>206</td>\n",
       "      <td>21</td>\n",
       "      <td>0</td>\n",
       "      <td>0</td>\n",
       "      <td>1</td>\n",
       "      <td>1</td>\n",
       "      <td>0</td>\n",
       "      <td>0</td>\n",
       "      <td>7</td>\n",
       "      <td>1</td>\n",
       "      <td>0</td>\n",
       "      <td>NaN</td>\n",
       "      <td>NaN</td>\n",
       "      <td>0.0000</td>\n",
       "      <td>0.2500</td>\n",
       "      <td>0</td>\n",
       "      <td>0</td>\n",
       "      <td>3</td>\n",
       "      <td>0.1250</td>\n",
       "      <td>1</td>\n",
       "      <td>0</td>\n",
       "      <td>1.0000</td>\n",
       "    </tr>\n",
       "    <tr>\n",
       "      <th>4</th>\n",
       "      <td>7251</td>\n",
       "      <td>1</td>\n",
       "      <td>1</td>\n",
       "      <td>0</td>\n",
       "      <td>4</td>\n",
       "      <td>1.0</td>\n",
       "      <td>5</td>\n",
       "      <td>152</td>\n",
       "      <td>11</td>\n",
       "      <td>0</td>\n",
       "      <td>1</td>\n",
       "      <td>1</td>\n",
       "      <td>3</td>\n",
       "      <td>9584</td>\n",
       "      <td>10778</td>\n",
       "      <td>2</td>\n",
       "      <td>2</td>\n",
       "      <td>0</td>\n",
       "      <td>2.0</td>\n",
       "      <td>2.0</td>\n",
       "      <td>0.8892</td>\n",
       "      <td>0.2500</td>\n",
       "      <td>2</td>\n",
       "      <td>1</td>\n",
       "      <td>2</td>\n",
       "      <td>0.7500</td>\n",
       "      <td>1</td>\n",
       "      <td>2</td>\n",
       "      <td>0.3333</td>\n",
       "    </tr>\n",
       "  </tbody>\n",
       "</table>\n",
       "</div>"
      ],
      "text/plain": [
       "       ID  DerogCnt  CollectCnt  ...  TLBadDerogCnt  TLDel60Cnt24  TLOpen24Pct\n",
       "0    7140         3           2  ...              3             3       1.0000\n",
       "1    7163         4           2  ...              3             2       0.3333\n",
       "2  122900         0           0  ...              0             0       1.8571\n",
       "3    7226         1           1  ...              1             0       1.0000\n",
       "4    7251         1           1  ...              1             2       0.3333\n",
       "\n",
       "[5 rows x 29 columns]"
      ]
     },
     "execution_count": 44,
     "metadata": {},
     "output_type": "execute_result"
    }
   ],
   "source": [
    "#shows first few rows of the code\n",
    "dataset.head()"
   ]
  },
  {
   "cell_type": "code",
   "execution_count": 45,
   "metadata": {
    "colab": {
     "base_uri": "https://localhost:8080/"
    },
    "executionInfo": {
     "elapsed": 8,
     "status": "ok",
     "timestamp": 1638208772552,
     "user": {
      "displayName": "SKILLCATE",
      "photoUrl": "https://lh3.googleusercontent.com/a-/AOh14GhT5e7MnDmh2dcfNhKDOV8oRoeRJVinedzmD2Su=s64",
      "userId": "11062674699417926870"
     },
     "user_tz": -330
    },
    "id": "kOEVc6QXmuib",
    "outputId": "b7b668f5-8987-4e22-9b33-a8f5fc5aeaa2"
   },
   "outputs": [
    {
     "data": {
      "text/plain": [
       "(30, 28)"
      ]
     },
     "execution_count": 45,
     "metadata": {},
     "output_type": "execute_result"
    }
   ],
   "source": [
    "#dropping customer ID column from the dataset\n",
    "dataset=dataset.drop('ID',axis=1)\n",
    "dataset.shape"
   ]
  },
  {
   "cell_type": "code",
   "execution_count": 46,
   "metadata": {
    "colab": {
     "base_uri": "https://localhost:8080/"
    },
    "executionInfo": {
     "elapsed": 6,
     "status": "ok",
     "timestamp": 1638208772552,
     "user": {
      "displayName": "SKILLCATE",
      "photoUrl": "https://lh3.googleusercontent.com/a-/AOh14GhT5e7MnDmh2dcfNhKDOV8oRoeRJVinedzmD2Su=s64",
      "userId": "11062674699417926870"
     },
     "user_tz": -330
    },
    "id": "BWa-g8lXpUVX",
    "outputId": "6adddfcc-2442-49dc-8fed-4d91996699af"
   },
   "outputs": [
    {
     "data": {
      "text/plain": [
       "DerogCnt           0\n",
       "CollectCnt         0\n",
       "BanruptcyInd       0\n",
       "InqCnt06           0\n",
       "InqTimeLast        3\n",
       "InqFinanceCnt24    0\n",
       "TLTimeFirst        0\n",
       "TLTimeLast         0\n",
       "TLCnt03            0\n",
       "TLCnt12            0\n",
       "TLCnt24            0\n",
       "TLCnt              0\n",
       "TLSum              0\n",
       "TLMaxSum           0\n",
       "TLSatCnt           0\n",
       "TLDel60Cnt         0\n",
       "TLBadCnt24         0\n",
       "TL75UtilCnt        1\n",
       "TL50UtilCnt        1\n",
       "TLBalHCPct         0\n",
       "TLSatPct           0\n",
       "TLDel3060Cnt24     0\n",
       "TLDel90Cnt24       0\n",
       "TLDel60CntAll      0\n",
       "TLOpenPct          0\n",
       "TLBadDerogCnt      0\n",
       "TLDel60Cnt24       0\n",
       "TLOpen24Pct        0\n",
       "dtype: int64"
      ]
     },
     "execution_count": 46,
     "metadata": {},
     "output_type": "execute_result"
    }
   ],
   "source": [
    "# explore missing values\n",
    "dataset.isna().sum()"
   ]
  },
  {
   "cell_type": "code",
   "execution_count": 47,
   "metadata": {
    "executionInfo": {
     "elapsed": 637,
     "status": "ok",
     "timestamp": 1638208773184,
     "user": {
      "displayName": "SKILLCATE",
      "photoUrl": "https://lh3.googleusercontent.com/a-/AOh14GhT5e7MnDmh2dcfNhKDOV8oRoeRJVinedzmD2Su=s64",
      "userId": "11062674699417926870"
     },
     "user_tz": -330
    },
    "id": "iwg__6smjkb4"
   },
   "outputs": [],
   "source": [
    "# filling missing values with mean\n",
    "dataset=dataset.fillna(dataset.mean())"
   ]
  },
  {
   "cell_type": "code",
   "execution_count": 48,
   "metadata": {
    "colab": {
     "base_uri": "https://localhost:8080/"
    },
    "executionInfo": {
     "elapsed": 18,
     "status": "ok",
     "timestamp": 1638208773185,
     "user": {
      "displayName": "SKILLCATE",
      "photoUrl": "https://lh3.googleusercontent.com/a-/AOh14GhT5e7MnDmh2dcfNhKDOV8oRoeRJVinedzmD2Su=s64",
      "userId": "11062674699417926870"
     },
     "user_tz": -330
    },
    "id": "Js3lP_KAm5-q",
    "outputId": "b7993a37-3099-49a6-f870-1597850cee3e"
   },
   "outputs": [
    {
     "data": {
      "text/plain": [
       "DerogCnt           0\n",
       "CollectCnt         0\n",
       "BanruptcyInd       0\n",
       "InqCnt06           0\n",
       "InqTimeLast        0\n",
       "InqFinanceCnt24    0\n",
       "TLTimeFirst        0\n",
       "TLTimeLast         0\n",
       "TLCnt03            0\n",
       "TLCnt12            0\n",
       "TLCnt24            0\n",
       "TLCnt              0\n",
       "TLSum              0\n",
       "TLMaxSum           0\n",
       "TLSatCnt           0\n",
       "TLDel60Cnt         0\n",
       "TLBadCnt24         0\n",
       "TL75UtilCnt        0\n",
       "TL50UtilCnt        0\n",
       "TLBalHCPct         0\n",
       "TLSatPct           0\n",
       "TLDel3060Cnt24     0\n",
       "TLDel90Cnt24       0\n",
       "TLDel60CntAll      0\n",
       "TLOpenPct          0\n",
       "TLBadDerogCnt      0\n",
       "TLDel60Cnt24       0\n",
       "TLOpen24Pct        0\n",
       "dtype: int64"
      ]
     },
     "execution_count": 48,
     "metadata": {},
     "output_type": "execute_result"
    }
   ],
   "source": [
    "# explore missing values post missing value fix\n",
    "dataset.isna().sum()"
   ]
  },
  {
   "cell_type": "markdown",
   "metadata": {
    "id": "3Ib6drIfoGym"
   },
   "source": [
    "### Train Test Split"
   ]
  },
  {
   "cell_type": "code",
   "execution_count": 49,
   "metadata": {
    "executionInfo": {
     "elapsed": 13,
     "status": "ok",
     "timestamp": 1638208773185,
     "user": {
      "displayName": "SKILLCATE",
      "photoUrl": "https://lh3.googleusercontent.com/a-/AOh14GhT5e7MnDmh2dcfNhKDOV8oRoeRJVinedzmD2Su=s64",
      "userId": "11062674699417926870"
     },
     "user_tz": -330
    },
    "id": "X9Fdr5ktkr5O"
   },
   "outputs": [],
   "source": [
    "X_fresh = dataset"
   ]
  },
  {
   "cell_type": "code",
   "execution_count": 50,
   "metadata": {
    "executionInfo": {
     "elapsed": 11,
     "status": "ok",
     "timestamp": 1638208773185,
     "user": {
      "displayName": "SKILLCATE",
      "photoUrl": "https://lh3.googleusercontent.com/a-/AOh14GhT5e7MnDmh2dcfNhKDOV8oRoeRJVinedzmD2Su=s64",
      "userId": "11062674699417926870"
     },
     "user_tz": -330
    },
    "id": "Si3h_hjpvWW8"
   },
   "outputs": [],
   "source": [
    "# Loading normalisation coefficients - exported from the model code file as f2_Normalisation \n",
    "\n",
    "import joblib\n",
    "\n",
    "sc = joblib.load('./f2_Normalisation_CreditScoring')"
   ]
  },
  {
   "cell_type": "code",
   "execution_count": 51,
   "metadata": {
    "colab": {
     "base_uri": "https://localhost:8080/"
    },
    "executionInfo": {
     "elapsed": 10,
     "status": "ok",
     "timestamp": 1638208773185,
     "user": {
      "displayName": "SKILLCATE",
      "photoUrl": "https://lh3.googleusercontent.com/a-/AOh14GhT5e7MnDmh2dcfNhKDOV8oRoeRJVinedzmD2Su=s64",
      "userId": "11062674699417926870"
     },
     "user_tz": -330
    },
    "id": "K4tOqu1WoPNv",
    "outputId": "7dfbe0bf-2252-4e81-ad4a-1f1aa9ee0833"
   },
   "outputs": [
    {
     "name": "stderr",
     "output_type": "stream",
     "text": [
      "/usr/local/lib/python3.7/dist-packages/sklearn/base.py:439: UserWarning: X has feature names, but StandardScaler was fitted without feature names\n",
      "  f\"X has feature names, but {self.__class__.__name__} was fitted without\"\n"
     ]
    }
   ],
   "source": [
    "X_fresh = sc.transform(X_fresh)"
   ]
  },
  {
   "cell_type": "markdown",
   "metadata": {
    "id": "07xCSknToWAs"
   },
   "source": [
    "### Risk Model building"
   ]
  },
  {
   "cell_type": "code",
   "execution_count": 52,
   "metadata": {
    "executionInfo": {
     "elapsed": 9,
     "status": "ok",
     "timestamp": 1638208773186,
     "user": {
      "displayName": "SKILLCATE",
      "photoUrl": "https://lh3.googleusercontent.com/a-/AOh14GhT5e7MnDmh2dcfNhKDOV8oRoeRJVinedzmD2Su=s64",
      "userId": "11062674699417926870"
     },
     "user_tz": -330
    },
    "id": "AzhmlRiuw3ne"
   },
   "outputs": [],
   "source": [
    "# Loading Classifier file - exported from the model code file as f1_Classifier \n",
    "\n",
    "classifier = joblib.load('./f1_Classifier_CreditScoring')"
   ]
  },
  {
   "cell_type": "code",
   "execution_count": 53,
   "metadata": {
    "executionInfo": {
     "elapsed": 9,
     "status": "ok",
     "timestamp": 1638208773186,
     "user": {
      "displayName": "SKILLCATE",
      "photoUrl": "https://lh3.googleusercontent.com/a-/AOh14GhT5e7MnDmh2dcfNhKDOV8oRoeRJVinedzmD2Su=s64",
      "userId": "11062674699417926870"
     },
     "user_tz": -330
    },
    "id": "TGTPbyy_oR8t"
   },
   "outputs": [],
   "source": [
    "# Generating fresh Target values for new applications\n",
    "\n",
    "y_fresh = classifier.predict(X_fresh)"
   ]
  },
  {
   "cell_type": "markdown",
   "metadata": {
    "id": "OZpWU4xApREd"
   },
   "source": [
    "### Writing output file"
   ]
  },
  {
   "cell_type": "code",
   "execution_count": 54,
   "metadata": {
    "colab": {
     "base_uri": "https://localhost:8080/"
    },
    "executionInfo": {
     "elapsed": 9,
     "status": "ok",
     "timestamp": 1638208773186,
     "user": {
      "displayName": "SKILLCATE",
      "photoUrl": "https://lh3.googleusercontent.com/a-/AOh14GhT5e7MnDmh2dcfNhKDOV8oRoeRJVinedzmD2Su=s64",
      "userId": "11062674699417926870"
     },
     "user_tz": -330
    },
    "id": "21MQHzgDx676",
    "outputId": "6419158b-af78-4267-bd81-51c435d783e0"
   },
   "outputs": [
    {
     "data": {
      "text/plain": [
       "array([[0.53072193, 0.46927807],\n",
       "       [0.9399864 , 0.0600136 ],\n",
       "       [0.88523999, 0.11476001],\n",
       "       [0.9081116 , 0.0918884 ],\n",
       "       [0.48767581, 0.51232419],\n",
       "       [0.83954328, 0.16045672],\n",
       "       [0.29346522, 0.70653478],\n",
       "       [0.41799418, 0.58200582],\n",
       "       [0.87678188, 0.12321812],\n",
       "       [0.95355202, 0.04644798],\n",
       "       [0.97650234, 0.02349766],\n",
       "       [0.68511605, 0.31488395],\n",
       "       [0.69758073, 0.30241927],\n",
       "       [0.91740227, 0.08259773],\n",
       "       [0.95276338, 0.04723662],\n",
       "       [0.30358906, 0.69641094],\n",
       "       [0.90490253, 0.09509747],\n",
       "       [0.34306184, 0.65693816],\n",
       "       [0.94455285, 0.05544715],\n",
       "       [0.98043219, 0.01956781],\n",
       "       [0.98644319, 0.01355681],\n",
       "       [0.87028617, 0.12971383],\n",
       "       [0.95854731, 0.04145269],\n",
       "       [0.91297616, 0.08702384],\n",
       "       [0.94463504, 0.05536496],\n",
       "       [0.61808494, 0.38191506],\n",
       "       [0.50013389, 0.49986611],\n",
       "       [0.90471715, 0.09528285],\n",
       "       [0.92996847, 0.07003153],\n",
       "       [0.88433534, 0.11566466]])"
      ]
     },
     "execution_count": 54,
     "metadata": {},
     "output_type": "execute_result"
    }
   ],
   "source": [
    "predictions = classifier.predict_proba(X_fresh)\n",
    "predictions"
   ]
  },
  {
   "cell_type": "code",
   "execution_count": 56,
   "metadata": {
    "colab": {
     "base_uri": "https://localhost:8080/",
     "height": 400
    },
    "executionInfo": {
     "elapsed": 7,
     "status": "ok",
     "timestamp": 1638208773186,
     "user": {
      "displayName": "SKILLCATE",
      "photoUrl": "https://lh3.googleusercontent.com/a-/AOh14GhT5e7MnDmh2dcfNhKDOV8oRoeRJVinedzmD2Su=s64",
      "userId": "11062674699417926870"
     },
     "user_tz": -330
    },
    "id": "QZZCWhsipijJ",
    "outputId": "2757300a-dba0-4e3e-e127-f5d6e41d01f4"
   },
   "outputs": [
    {
     "data": {
      "text/html": [
       "<div>\n",
       "<style scoped>\n",
       "    .dataframe tbody tr th:only-of-type {\n",
       "        vertical-align: middle;\n",
       "    }\n",
       "\n",
       "    .dataframe tbody tr th {\n",
       "        vertical-align: top;\n",
       "    }\n",
       "\n",
       "    .dataframe thead th {\n",
       "        text-align: right;\n",
       "    }\n",
       "</style>\n",
       "<table border=\"1\" class=\"dataframe\">\n",
       "  <thead>\n",
       "    <tr style=\"text-align: right;\">\n",
       "      <th></th>\n",
       "      <th>Predicted Outcome</th>\n",
       "      <th>prob_0</th>\n",
       "      <th>prob_1</th>\n",
       "      <th>DerogCnt</th>\n",
       "      <th>CollectCnt</th>\n",
       "      <th>BanruptcyInd</th>\n",
       "      <th>InqCnt06</th>\n",
       "      <th>InqTimeLast</th>\n",
       "      <th>InqFinanceCnt24</th>\n",
       "      <th>TLTimeFirst</th>\n",
       "      <th>TLTimeLast</th>\n",
       "      <th>TLCnt03</th>\n",
       "      <th>TLCnt12</th>\n",
       "      <th>TLCnt24</th>\n",
       "      <th>TLCnt</th>\n",
       "      <th>TLSum</th>\n",
       "      <th>TLMaxSum</th>\n",
       "      <th>TLSatCnt</th>\n",
       "      <th>TLDel60Cnt</th>\n",
       "      <th>TLBadCnt24</th>\n",
       "      <th>TL75UtilCnt</th>\n",
       "      <th>TL50UtilCnt</th>\n",
       "      <th>TLBalHCPct</th>\n",
       "      <th>TLSatPct</th>\n",
       "      <th>TLDel3060Cnt24</th>\n",
       "      <th>TLDel90Cnt24</th>\n",
       "      <th>TLDel60CntAll</th>\n",
       "      <th>TLOpenPct</th>\n",
       "      <th>TLBadDerogCnt</th>\n",
       "      <th>TLDel60Cnt24</th>\n",
       "      <th>TLOpen24Pct</th>\n",
       "    </tr>\n",
       "  </thead>\n",
       "  <tbody>\n",
       "    <tr>\n",
       "      <th>0</th>\n",
       "      <td>0</td>\n",
       "      <td>0.530722</td>\n",
       "      <td>0.469278</td>\n",
       "      <td>0.601339</td>\n",
       "      <td>0.565223</td>\n",
       "      <td>-0.426926</td>\n",
       "      <td>-0.895312</td>\n",
       "      <td>1.761598</td>\n",
       "      <td>-0.799152</td>\n",
       "      <td>-0.873132</td>\n",
       "      <td>-0.188336</td>\n",
       "      <td>-0.464645</td>\n",
       "      <td>-0.421119</td>\n",
       "      <td>-0.258589</td>\n",
       "      <td>-0.901945</td>\n",
       "      <td>-0.787266</td>\n",
       "      <td>-0.887556</td>\n",
       "      <td>-0.620905</td>\n",
       "      <td>0.169857</td>\n",
       "      <td>0.335889</td>\n",
       "      <td>-0.446175</td>\n",
       "      <td>-0.686916</td>\n",
       "      <td>0.818250</td>\n",
       "      <td>-1.502525</td>\n",
       "      <td>1.125537</td>\n",
       "      <td>0.755910</td>\n",
       "      <td>0.438741</td>\n",
       "      <td>-1.194813</td>\n",
       "      <td>0.690243</td>\n",
       "      <td>1.090683</td>\n",
       "      <td>0.933888</td>\n",
       "    </tr>\n",
       "    <tr>\n",
       "      <th>1</th>\n",
       "      <td>0</td>\n",
       "      <td>0.939986</td>\n",
       "      <td>0.060014</td>\n",
       "      <td>0.983546</td>\n",
       "      <td>0.565223</td>\n",
       "      <td>2.342325</td>\n",
       "      <td>-0.022074</td>\n",
       "      <td>-0.025710</td>\n",
       "      <td>-0.339649</td>\n",
       "      <td>0.564920</td>\n",
       "      <td>-0.577662</td>\n",
       "      <td>1.230109</td>\n",
       "      <td>-0.421119</td>\n",
       "      <td>-0.839417</td>\n",
       "      <td>-0.901945</td>\n",
       "      <td>-0.676419</td>\n",
       "      <td>-0.724953</td>\n",
       "      <td>-0.509748</td>\n",
       "      <td>1.230543</td>\n",
       "      <td>1.101449</td>\n",
       "      <td>-0.832338</td>\n",
       "      <td>-0.686916</td>\n",
       "      <td>0.116346</td>\n",
       "      <td>-0.793576</td>\n",
       "      <td>-0.621739</td>\n",
       "      <td>0.755910</td>\n",
       "      <td>0.733445</td>\n",
       "      <td>-1.436823</td>\n",
       "      <td>0.690243</td>\n",
       "      <td>0.528717</td>\n",
       "      <td>-0.475809</td>\n",
       "    </tr>\n",
       "    <tr>\n",
       "      <th>2</th>\n",
       "      <td>0</td>\n",
       "      <td>0.885240</td>\n",
       "      <td>0.114760</td>\n",
       "      <td>-0.545282</td>\n",
       "      <td>-0.418486</td>\n",
       "      <td>-0.426926</td>\n",
       "      <td>2.306562</td>\n",
       "      <td>-0.472537</td>\n",
       "      <td>2.187616</td>\n",
       "      <td>-0.192527</td>\n",
       "      <td>-0.642549</td>\n",
       "      <td>2.924864</td>\n",
       "      <td>3.203268</td>\n",
       "      <td>2.645549</td>\n",
       "      <td>-0.170685</td>\n",
       "      <td>0.354517</td>\n",
       "      <td>0.043593</td>\n",
       "      <td>0.935292</td>\n",
       "      <td>-0.537267</td>\n",
       "      <td>-0.429670</td>\n",
       "      <td>0.326150</td>\n",
       "      <td>0.290825</td>\n",
       "      <td>0.715459</td>\n",
       "      <td>0.238359</td>\n",
       "      <td>0.251899</td>\n",
       "      <td>-0.507889</td>\n",
       "      <td>-0.740076</td>\n",
       "      <td>-1.378257</td>\n",
       "      <td>-0.600266</td>\n",
       "      <td>-0.595216</td>\n",
       "      <td>2.746174</td>\n",
       "    </tr>\n",
       "    <tr>\n",
       "      <th>3</th>\n",
       "      <td>0</td>\n",
       "      <td>0.908112</td>\n",
       "      <td>0.091888</td>\n",
       "      <td>-0.163075</td>\n",
       "      <td>0.073368</td>\n",
       "      <td>-0.426926</td>\n",
       "      <td>-0.313153</td>\n",
       "      <td>-0.472537</td>\n",
       "      <td>0.119854</td>\n",
       "      <td>0.400258</td>\n",
       "      <td>0.590315</td>\n",
       "      <td>-0.464645</td>\n",
       "      <td>-0.938889</td>\n",
       "      <td>-0.839417</td>\n",
       "      <td>-1.267575</td>\n",
       "      <td>-1.025616</td>\n",
       "      <td>-1.074532</td>\n",
       "      <td>-0.732062</td>\n",
       "      <td>-0.183705</td>\n",
       "      <td>-0.429670</td>\n",
       "      <td>-0.006749</td>\n",
       "      <td>-0.035088</td>\n",
       "      <td>-2.424914</td>\n",
       "      <td>-1.148050</td>\n",
       "      <td>-0.621739</td>\n",
       "      <td>-0.507889</td>\n",
       "      <td>0.144037</td>\n",
       "      <td>-1.799839</td>\n",
       "      <td>-0.170096</td>\n",
       "      <td>-0.595216</td>\n",
       "      <td>0.933888</td>\n",
       "    </tr>\n",
       "    <tr>\n",
       "      <th>4</th>\n",
       "      <td>1</td>\n",
       "      <td>0.487676</td>\n",
       "      <td>0.512324</td>\n",
       "      <td>-0.163075</td>\n",
       "      <td>0.073368</td>\n",
       "      <td>-0.426926</td>\n",
       "      <td>0.269006</td>\n",
       "      <td>-0.472537</td>\n",
       "      <td>0.349605</td>\n",
       "      <td>-0.192527</td>\n",
       "      <td>-0.058561</td>\n",
       "      <td>-0.464645</td>\n",
       "      <td>-0.421119</td>\n",
       "      <td>-0.839417</td>\n",
       "      <td>-0.901945</td>\n",
       "      <td>-0.541848</td>\n",
       "      <td>-0.705578</td>\n",
       "      <td>-1.287847</td>\n",
       "      <td>0.169857</td>\n",
       "      <td>-0.429670</td>\n",
       "      <td>-0.446175</td>\n",
       "      <td>-0.686916</td>\n",
       "      <td>0.910912</td>\n",
       "      <td>-1.148050</td>\n",
       "      <td>1.125537</td>\n",
       "      <td>0.124010</td>\n",
       "      <td>-0.150667</td>\n",
       "      <td>1.225291</td>\n",
       "      <td>-0.170096</td>\n",
       "      <td>0.528717</td>\n",
       "      <td>-0.475809</td>\n",
       "    </tr>\n",
       "    <tr>\n",
       "      <th>5</th>\n",
       "      <td>0</td>\n",
       "      <td>0.839543</td>\n",
       "      <td>0.160457</td>\n",
       "      <td>-0.163075</td>\n",
       "      <td>0.073368</td>\n",
       "      <td>2.342325</td>\n",
       "      <td>-0.313153</td>\n",
       "      <td>-0.249124</td>\n",
       "      <td>-0.799152</td>\n",
       "      <td>-0.499897</td>\n",
       "      <td>-0.577662</td>\n",
       "      <td>1.230109</td>\n",
       "      <td>1.132189</td>\n",
       "      <td>0.322238</td>\n",
       "      <td>-0.536315</td>\n",
       "      <td>-0.724725</td>\n",
       "      <td>-0.875985</td>\n",
       "      <td>-0.954376</td>\n",
       "      <td>0.169857</td>\n",
       "      <td>-0.429670</td>\n",
       "      <td>0.326150</td>\n",
       "      <td>-0.035088</td>\n",
       "      <td>1.430868</td>\n",
       "      <td>-0.084200</td>\n",
       "      <td>-0.621739</td>\n",
       "      <td>-0.507889</td>\n",
       "      <td>-0.150667</td>\n",
       "      <td>0.620265</td>\n",
       "      <td>-0.600266</td>\n",
       "      <td>-0.595216</td>\n",
       "      <td>0.933888</td>\n",
       "    </tr>\n",
       "    <tr>\n",
       "      <th>6</th>\n",
       "      <td>1</td>\n",
       "      <td>0.293465</td>\n",
       "      <td>0.706535</td>\n",
       "      <td>-0.545282</td>\n",
       "      <td>-0.418486</td>\n",
       "      <td>-0.426926</td>\n",
       "      <td>-0.604232</td>\n",
       "      <td>0.644530</td>\n",
       "      <td>0.119854</td>\n",
       "      <td>-0.741402</td>\n",
       "      <td>0.849865</td>\n",
       "      <td>-0.464645</td>\n",
       "      <td>-0.938889</td>\n",
       "      <td>-1.129831</td>\n",
       "      <td>1.109020</td>\n",
       "      <td>0.716132</td>\n",
       "      <td>0.213179</td>\n",
       "      <td>0.379507</td>\n",
       "      <td>0.523419</td>\n",
       "      <td>1.101449</td>\n",
       "      <td>2.256963</td>\n",
       "      <td>2.246307</td>\n",
       "      <td>1.016329</td>\n",
       "      <td>-0.361652</td>\n",
       "      <td>1.999176</td>\n",
       "      <td>2.019708</td>\n",
       "      <td>0.438741</td>\n",
       "      <td>0.541370</td>\n",
       "      <td>1.120413</td>\n",
       "      <td>1.652649</td>\n",
       "      <td>-1.180552</td>\n",
       "    </tr>\n",
       "    <tr>\n",
       "      <th>7</th>\n",
       "      <td>1</td>\n",
       "      <td>0.417994</td>\n",
       "      <td>0.582006</td>\n",
       "      <td>5.187825</td>\n",
       "      <td>4.008205</td>\n",
       "      <td>-0.426926</td>\n",
       "      <td>-0.022074</td>\n",
       "      <td>-0.472537</td>\n",
       "      <td>-0.109898</td>\n",
       "      <td>-1.707422</td>\n",
       "      <td>0.136102</td>\n",
       "      <td>-0.464645</td>\n",
       "      <td>-0.938889</td>\n",
       "      <td>-0.839417</td>\n",
       "      <td>-1.267575</td>\n",
       "      <td>-0.178820</td>\n",
       "      <td>-0.356650</td>\n",
       "      <td>-1.399004</td>\n",
       "      <td>-0.537267</td>\n",
       "      <td>-0.429670</td>\n",
       "      <td>-0.832338</td>\n",
       "      <td>-1.012829</td>\n",
       "      <td>0.576279</td>\n",
       "      <td>-2.211901</td>\n",
       "      <td>-0.621739</td>\n",
       "      <td>-0.507889</td>\n",
       "      <td>-0.740076</td>\n",
       "      <td>2.435343</td>\n",
       "      <td>4.561771</td>\n",
       "      <td>-0.595216</td>\n",
       "      <td>0.933888</td>\n",
       "    </tr>\n",
       "    <tr>\n",
       "      <th>8</th>\n",
       "      <td>0</td>\n",
       "      <td>0.876782</td>\n",
       "      <td>0.123218</td>\n",
       "      <td>-0.545282</td>\n",
       "      <td>-0.418486</td>\n",
       "      <td>-0.426926</td>\n",
       "      <td>-0.895312</td>\n",
       "      <td>-0.108456</td>\n",
       "      <td>-0.799152</td>\n",
       "      <td>-0.653582</td>\n",
       "      <td>1.109416</td>\n",
       "      <td>-0.464645</td>\n",
       "      <td>-0.938889</td>\n",
       "      <td>-1.129831</td>\n",
       "      <td>-0.901945</td>\n",
       "      <td>-0.912801</td>\n",
       "      <td>-0.972041</td>\n",
       "      <td>-0.954376</td>\n",
       "      <td>0.169857</td>\n",
       "      <td>0.335889</td>\n",
       "      <td>-0.832338</td>\n",
       "      <td>-1.012829</td>\n",
       "      <td>0.375574</td>\n",
       "      <td>-0.388036</td>\n",
       "      <td>-0.621739</td>\n",
       "      <td>0.124010</td>\n",
       "      <td>-0.150667</td>\n",
       "      <td>-0.330352</td>\n",
       "      <td>-0.170096</td>\n",
       "      <td>-0.033250</td>\n",
       "      <td>-1.180552</td>\n",
       "    </tr>\n",
       "    <tr>\n",
       "      <th>9</th>\n",
       "      <td>0</td>\n",
       "      <td>0.953552</td>\n",
       "      <td>0.046448</td>\n",
       "      <td>-0.545282</td>\n",
       "      <td>-0.418486</td>\n",
       "      <td>-0.426926</td>\n",
       "      <td>-0.604232</td>\n",
       "      <td>0.421117</td>\n",
       "      <td>-0.569400</td>\n",
       "      <td>2.024928</td>\n",
       "      <td>-0.318111</td>\n",
       "      <td>-0.464645</td>\n",
       "      <td>0.096650</td>\n",
       "      <td>1.774308</td>\n",
       "      <td>2.023095</td>\n",
       "      <td>-0.172409</td>\n",
       "      <td>0.554678</td>\n",
       "      <td>0.824135</td>\n",
       "      <td>-0.183705</td>\n",
       "      <td>0.335889</td>\n",
       "      <td>0.326150</td>\n",
       "      <td>0.290825</td>\n",
       "      <td>-1.092384</td>\n",
       "      <td>0.570280</td>\n",
       "      <td>-0.621739</td>\n",
       "      <td>0.124010</td>\n",
       "      <td>-0.445372</td>\n",
       "      <td>1.132359</td>\n",
       "      <td>-0.170096</td>\n",
       "      <td>-0.033250</td>\n",
       "      <td>-0.067722</td>\n",
       "    </tr>\n",
       "  </tbody>\n",
       "</table>\n",
       "</div>"
      ],
      "text/plain": [
       "   Predicted Outcome    prob_0  ...  TLDel60Cnt24  TLOpen24Pct\n",
       "0                  0  0.530722  ...      1.090683     0.933888\n",
       "1                  0  0.939986  ...      0.528717    -0.475809\n",
       "2                  0  0.885240  ...     -0.595216     2.746174\n",
       "3                  0  0.908112  ...     -0.595216     0.933888\n",
       "4                  1  0.487676  ...      0.528717    -0.475809\n",
       "5                  0  0.839543  ...     -0.595216     0.933888\n",
       "6                  1  0.293465  ...      1.652649    -1.180552\n",
       "7                  1  0.417994  ...     -0.595216     0.933888\n",
       "8                  0  0.876782  ...     -0.033250    -1.180552\n",
       "9                  0  0.953552  ...     -0.033250    -0.067722\n",
       "\n",
       "[10 rows x 31 columns]"
      ]
     },
     "execution_count": 56,
     "metadata": {},
     "output_type": "execute_result"
    }
   ],
   "source": [
    "# writing model output file\n",
    "\n",
    "df_prediction_prob = pd.DataFrame(predictions, columns = ['prob_0', 'prob_1'])\n",
    "df_test_dataset = pd.DataFrame(X_fresh, columns = dataset.columns)\n",
    "df_prediction_target = pd.DataFrame(y_fresh,columns= ['Predicted Outcome'])\n",
    "\n",
    "dfx=pd.concat([df_prediction_target, df_prediction_prob, df_test_dataset], axis=1)\n",
    "\n",
    "dfx.to_csv(\"/content/drive/My Drive/Project1_Credit_Scoring/f4_NewApplications_CreditScore_Predictions.xlsx\", sep=',', encoding='UTF-8')\n",
    "\n",
    "dfx.head(10)"
   ]
  },
  {
   "cell_type": "markdown",
   "metadata": {
    "id": "MGdYvDbIDVny"
   },
   "source": [
    "### Coding ends here!"
   ]
  }
 ],
 "metadata": {
  "colab": {
   "authorship_tag": "ABX9TyMb+gcsAkHMniJYlPat7LOY",
   "collapsed_sections": [],
   "mount_file_id": "1pd39RJk0kcIKm3WrejNtXoDiW9IWjOfD",
   "name": "f3_NewApplications_CreditScore_Predictions.ipynb",
   "provenance": [
    {
     "file_id": "1pd39RJk0kcIKm3WrejNtXoDiW9IWjOfD",
     "timestamp": 1612685590437
    }
   ],
   "toc_visible": true
  },
  "kernelspec": {
   "display_name": "Python 3 (ipykernel)",
   "language": "python",
   "name": "python3"
  },
  "language_info": {
   "codemirror_mode": {
    "name": "ipython",
    "version": 3
   },
   "file_extension": ".py",
   "mimetype": "text/x-python",
   "name": "python",
   "nbconvert_exporter": "python",
   "pygments_lexer": "ipython3",
   "version": "3.9.13"
  }
 },
 "nbformat": 4,
 "nbformat_minor": 1
}
