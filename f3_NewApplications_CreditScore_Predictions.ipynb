{
 "cells": [
  {
   "cell_type": "markdown",
   "metadata": {
    "id": "v6M3JjqF23xB"
   },
   "source": [
    "**In this Credit Score Prediction file, we shall use our Credit Scoring model** that we exported to our project folder (f1_classifier) - in previous code file - **to predict Credit Scores for New Loan Applications file (e_NewApplications)**."
   ]
  },
  {
   "cell_type": "markdown",
   "metadata": {
    "id": "tLLLopyLmOxU"
   },
   "source": [
    "### Importing libraries & functions\n",
    "\n",
    "\n",
    "\n"
   ]
  },
  {
   "cell_type": "code",
   "execution_count": 1,
   "metadata": {
    "executionInfo": {
     "elapsed": 500,
     "status": "ok",
     "timestamp": 1638208772038,
     "user": {
      "displayName": "SKILLCATE",
      "photoUrl": "https://lh3.googleusercontent.com/a-/AOh14GhT5e7MnDmh2dcfNhKDOV8oRoeRJVinedzmD2Su=s64",
      "userId": "11062674699417926870"
     },
     "user_tz": -330
    },
    "id": "Z0zpJk7CmHiH"
   },
   "outputs": [],
   "source": [
    "import pandas as pd\n",
    "import numpy as np\n",
    "\n",
    "from sklearn.model_selection import train_test_split\n",
    "from sklearn.preprocessing import StandardScaler\n",
    "from sklearn.metrics import classification_report, confusion_matrix, accuracy_score\n",
    "from sklearn.linear_model import LogisticRegression"
   ]
  },
  {
   "cell_type": "markdown",
   "metadata": {
    "id": "d3KLBB_ajJPf"
   },
   "source": [
    "### Importing dataset"
   ]
  },
  {
   "cell_type": "code",
   "execution_count": 2,
   "metadata": {
    "colab": {
     "base_uri": "https://localhost:8080/"
    },
    "executionInfo": {
     "elapsed": 21,
     "status": "ok",
     "timestamp": 1638208772550,
     "user": {
      "displayName": "SKILLCATE",
      "photoUrl": "https://lh3.googleusercontent.com/a-/AOh14GhT5e7MnDmh2dcfNhKDOV8oRoeRJVinedzmD2Su=s64",
      "userId": "11062674699417926870"
     },
     "user_tz": -330
    },
    "id": "Jt3V_IVhj16o",
    "outputId": "c1217568-94a5-4ac7-e943-fbae32da41f1"
   },
   "outputs": [
    {
     "ename": "ModuleNotFoundError",
     "evalue": "No module named 'google'",
     "output_type": "error",
     "traceback": [
      "\u001b[1;31m---------------------------------------------------------------------------\u001b[0m",
      "\u001b[1;31mModuleNotFoundError\u001b[0m                       Traceback (most recent call last)",
      "\u001b[1;32m~\\AppData\\Local\\Temp\\ipykernel_7608\\1408506528.py\u001b[0m in \u001b[0;36m<module>\u001b[1;34m\u001b[0m\n\u001b[1;32m----> 1\u001b[1;33m \u001b[1;32mfrom\u001b[0m \u001b[0mgoogle\u001b[0m\u001b[1;33m.\u001b[0m\u001b[0mcolab\u001b[0m \u001b[1;32mimport\u001b[0m \u001b[0mdrive\u001b[0m\u001b[1;33m\u001b[0m\u001b[1;33m\u001b[0m\u001b[0m\n\u001b[0m\u001b[0;32m      2\u001b[0m \u001b[0mdrive\u001b[0m\u001b[1;33m.\u001b[0m\u001b[0mmount\u001b[0m\u001b[1;33m(\u001b[0m\u001b[1;34m'/content/drive'\u001b[0m\u001b[1;33m)\u001b[0m\u001b[1;33m\u001b[0m\u001b[1;33m\u001b[0m\u001b[0m\n",
      "\u001b[1;31mModuleNotFoundError\u001b[0m: No module named 'google'"
     ]
    }
   ],
   "source": [
    "from google.colab import drive\n",
    "drive.mount('/content/drive')"
   ]
  },
  {
   "cell_type": "code",
   "execution_count": 5,
   "metadata": {
    "colab": {
     "base_uri": "https://localhost:8080/"
    },
    "executionInfo": {
     "elapsed": 14,
     "status": "ok",
     "timestamp": 1638208772551,
     "user": {
      "displayName": "SKILLCATE",
      "photoUrl": "https://lh3.googleusercontent.com/a-/AOh14GhT5e7MnDmh2dcfNhKDOV8oRoeRJVinedzmD2Su=s64",
      "userId": "11062674699417926870"
     },
     "user_tz": -330
    },
    "id": "a5BrHGMEjyL5",
    "outputId": "fa360d4a-377d-46d9-9fc3-0391e89bcc30"
   },
   "outputs": [
    {
     "name": "stdout",
     "output_type": "stream",
     "text": [
      "C:\\Users\\Gonzalez\\Documents\\dataScience\\Project1_Credit_Scoring-20230122T180707Z-001\\Project1_Credit_Scoring\n"
     ]
    }
   ],
   "source": [
    "%cd C:/Users/Gonzalez/Documents/dataScience/Project1_Credit_Scoring-20230122T180707Z-001/Project1_Credit_Scoring\n",
    "# !pwd"
   ]
  },
  {
   "cell_type": "code",
   "execution_count": 6,
   "metadata": {
    "executionInfo": {
     "elapsed": 11,
     "status": "ok",
     "timestamp": 1638208772551,
     "user": {
      "displayName": "SKILLCATE",
      "photoUrl": "https://lh3.googleusercontent.com/a-/AOh14GhT5e7MnDmh2dcfNhKDOV8oRoeRJVinedzmD2Su=s64",
      "userId": "11062674699417926870"
     },
     "user_tz": -330
    },
    "id": "xXULP25MrAWX"
   },
   "outputs": [],
   "source": [
    "dataset=pd.read_excel(\"e_NewApplications_CreditScore_Needed.xlsx\")\n",
    "# !ls"
   ]
  },
  {
   "cell_type": "markdown",
   "metadata": {
    "id": "BKEq_6x1mYTL"
   },
   "source": [
    "### Data preparation"
   ]
  },
  {
   "cell_type": "code",
   "execution_count": 7,
   "metadata": {
    "colab": {
     "base_uri": "https://localhost:8080/"
    },
    "executionInfo": {
     "elapsed": 11,
     "status": "ok",
     "timestamp": 1638208772551,
     "user": {
      "displayName": "SKILLCATE",
      "photoUrl": "https://lh3.googleusercontent.com/a-/AOh14GhT5e7MnDmh2dcfNhKDOV8oRoeRJVinedzmD2Su=s64",
      "userId": "11062674699417926870"
     },
     "user_tz": -330
    },
    "id": "9V3vK-KsjeEY",
    "outputId": "7615c015-e6b2-4d35-929d-aaf425e8db5b"
   },
   "outputs": [
    {
     "data": {
      "text/plain": [
       "(30, 29)"
      ]
     },
     "execution_count": 7,
     "metadata": {},
     "output_type": "execute_result"
    }
   ],
   "source": [
    "# shows count of rows and columns\n",
    "dataset.shape"
   ]
  },
  {
   "cell_type": "code",
   "execution_count": 8,
   "metadata": {
    "colab": {
     "base_uri": "https://localhost:8080/",
     "height": 226
    },
    "executionInfo": {
     "elapsed": 9,
     "status": "ok",
     "timestamp": 1638208772552,
     "user": {
      "displayName": "SKILLCATE",
      "photoUrl": "https://lh3.googleusercontent.com/a-/AOh14GhT5e7MnDmh2dcfNhKDOV8oRoeRJVinedzmD2Su=s64",
      "userId": "11062674699417926870"
     },
     "user_tz": -330
    },
    "id": "82u-muk25Ahf",
    "outputId": "eaaac4af-29a7-4ab1-ac2a-b7f1ec2d6fe0"
   },
   "outputs": [
    {
     "data": {
      "text/html": [
       "<div>\n",
       "<style scoped>\n",
       "    .dataframe tbody tr th:only-of-type {\n",
       "        vertical-align: middle;\n",
       "    }\n",
       "\n",
       "    .dataframe tbody tr th {\n",
       "        vertical-align: top;\n",
       "    }\n",
       "\n",
       "    .dataframe thead th {\n",
       "        text-align: right;\n",
       "    }\n",
       "</style>\n",
       "<table border=\"1\" class=\"dataframe\">\n",
       "  <thead>\n",
       "    <tr style=\"text-align: right;\">\n",
       "      <th></th>\n",
       "      <th>ID</th>\n",
       "      <th>DerogCnt</th>\n",
       "      <th>CollectCnt</th>\n",
       "      <th>BanruptcyInd</th>\n",
       "      <th>InqCnt06</th>\n",
       "      <th>InqTimeLast</th>\n",
       "      <th>InqFinanceCnt24</th>\n",
       "      <th>TLTimeFirst</th>\n",
       "      <th>TLTimeLast</th>\n",
       "      <th>TLCnt03</th>\n",
       "      <th>...</th>\n",
       "      <th>TL50UtilCnt</th>\n",
       "      <th>TLBalHCPct</th>\n",
       "      <th>TLSatPct</th>\n",
       "      <th>TLDel3060Cnt24</th>\n",
       "      <th>TLDel90Cnt24</th>\n",
       "      <th>TLDel60CntAll</th>\n",
       "      <th>TLOpenPct</th>\n",
       "      <th>TLBadDerogCnt</th>\n",
       "      <th>TLDel60Cnt24</th>\n",
       "      <th>TLOpen24Pct</th>\n",
       "    </tr>\n",
       "  </thead>\n",
       "  <tbody>\n",
       "    <tr>\n",
       "      <th>0</th>\n",
       "      <td>7140</td>\n",
       "      <td>3</td>\n",
       "      <td>2</td>\n",
       "      <td>0</td>\n",
       "      <td>0</td>\n",
       "      <td>11.0</td>\n",
       "      <td>0</td>\n",
       "      <td>90</td>\n",
       "      <td>9</td>\n",
       "      <td>0</td>\n",
       "      <td>...</td>\n",
       "      <td>2.0</td>\n",
       "      <td>0.8645</td>\n",
       "      <td>0.1667</td>\n",
       "      <td>2</td>\n",
       "      <td>2</td>\n",
       "      <td>4</td>\n",
       "      <td>0.2500</td>\n",
       "      <td>3</td>\n",
       "      <td>3</td>\n",
       "      <td>1.0000</td>\n",
       "    </tr>\n",
       "    <tr>\n",
       "      <th>1</th>\n",
       "      <td>7163</td>\n",
       "      <td>4</td>\n",
       "      <td>2</td>\n",
       "      <td>1</td>\n",
       "      <td>3</td>\n",
       "      <td>3.0</td>\n",
       "      <td>2</td>\n",
       "      <td>221</td>\n",
       "      <td>3</td>\n",
       "      <td>1</td>\n",
       "      <td>...</td>\n",
       "      <td>2.0</td>\n",
       "      <td>0.6774</td>\n",
       "      <td>0.3333</td>\n",
       "      <td>0</td>\n",
       "      <td>2</td>\n",
       "      <td>5</td>\n",
       "      <td>0.2000</td>\n",
       "      <td>3</td>\n",
       "      <td>2</td>\n",
       "      <td>0.3333</td>\n",
       "    </tr>\n",
       "    <tr>\n",
       "      <th>2</th>\n",
       "      <td>122900</td>\n",
       "      <td>0</td>\n",
       "      <td>0</td>\n",
       "      <td>0</td>\n",
       "      <td>11</td>\n",
       "      <td>1.0</td>\n",
       "      <td>13</td>\n",
       "      <td>152</td>\n",
       "      <td>2</td>\n",
       "      <td>2</td>\n",
       "      <td>...</td>\n",
       "      <td>5.0</td>\n",
       "      <td>0.8371</td>\n",
       "      <td>0.5758</td>\n",
       "      <td>1</td>\n",
       "      <td>0</td>\n",
       "      <td>0</td>\n",
       "      <td>0.2121</td>\n",
       "      <td>0</td>\n",
       "      <td>0</td>\n",
       "      <td>1.8571</td>\n",
       "    </tr>\n",
       "    <tr>\n",
       "      <th>3</th>\n",
       "      <td>7226</td>\n",
       "      <td>1</td>\n",
       "      <td>1</td>\n",
       "      <td>0</td>\n",
       "      <td>2</td>\n",
       "      <td>1.0</td>\n",
       "      <td>4</td>\n",
       "      <td>206</td>\n",
       "      <td>21</td>\n",
       "      <td>0</td>\n",
       "      <td>...</td>\n",
       "      <td>NaN</td>\n",
       "      <td>0.0000</td>\n",
       "      <td>0.2500</td>\n",
       "      <td>0</td>\n",
       "      <td>0</td>\n",
       "      <td>3</td>\n",
       "      <td>0.1250</td>\n",
       "      <td>1</td>\n",
       "      <td>0</td>\n",
       "      <td>1.0000</td>\n",
       "    </tr>\n",
       "    <tr>\n",
       "      <th>4</th>\n",
       "      <td>7251</td>\n",
       "      <td>1</td>\n",
       "      <td>1</td>\n",
       "      <td>0</td>\n",
       "      <td>4</td>\n",
       "      <td>1.0</td>\n",
       "      <td>5</td>\n",
       "      <td>152</td>\n",
       "      <td>11</td>\n",
       "      <td>0</td>\n",
       "      <td>...</td>\n",
       "      <td>2.0</td>\n",
       "      <td>0.8892</td>\n",
       "      <td>0.2500</td>\n",
       "      <td>2</td>\n",
       "      <td>1</td>\n",
       "      <td>2</td>\n",
       "      <td>0.7500</td>\n",
       "      <td>1</td>\n",
       "      <td>2</td>\n",
       "      <td>0.3333</td>\n",
       "    </tr>\n",
       "  </tbody>\n",
       "</table>\n",
       "<p>5 rows × 29 columns</p>\n",
       "</div>"
      ],
      "text/plain": [
       "       ID  DerogCnt  CollectCnt  BanruptcyInd  InqCnt06  InqTimeLast  \\\n",
       "0    7140         3           2             0         0         11.0   \n",
       "1    7163         4           2             1         3          3.0   \n",
       "2  122900         0           0             0        11          1.0   \n",
       "3    7226         1           1             0         2          1.0   \n",
       "4    7251         1           1             0         4          1.0   \n",
       "\n",
       "   InqFinanceCnt24  TLTimeFirst  TLTimeLast  TLCnt03  ...  TL50UtilCnt  \\\n",
       "0                0           90           9        0  ...          2.0   \n",
       "1                2          221           3        1  ...          2.0   \n",
       "2               13          152           2        2  ...          5.0   \n",
       "3                4          206          21        0  ...          NaN   \n",
       "4                5          152          11        0  ...          2.0   \n",
       "\n",
       "   TLBalHCPct  TLSatPct  TLDel3060Cnt24  TLDel90Cnt24  TLDel60CntAll  \\\n",
       "0      0.8645    0.1667               2             2              4   \n",
       "1      0.6774    0.3333               0             2              5   \n",
       "2      0.8371    0.5758               1             0              0   \n",
       "3      0.0000    0.2500               0             0              3   \n",
       "4      0.8892    0.2500               2             1              2   \n",
       "\n",
       "   TLOpenPct  TLBadDerogCnt  TLDel60Cnt24  TLOpen24Pct  \n",
       "0     0.2500              3             3       1.0000  \n",
       "1     0.2000              3             2       0.3333  \n",
       "2     0.2121              0             0       1.8571  \n",
       "3     0.1250              1             0       1.0000  \n",
       "4     0.7500              1             2       0.3333  \n",
       "\n",
       "[5 rows x 29 columns]"
      ]
     },
     "execution_count": 8,
     "metadata": {},
     "output_type": "execute_result"
    }
   ],
   "source": [
    "#shows first few rows of the code\n",
    "dataset.head()"
   ]
  },
  {
   "cell_type": "code",
   "execution_count": 9,
   "metadata": {
    "colab": {
     "base_uri": "https://localhost:8080/"
    },
    "executionInfo": {
     "elapsed": 8,
     "status": "ok",
     "timestamp": 1638208772552,
     "user": {
      "displayName": "SKILLCATE",
      "photoUrl": "https://lh3.googleusercontent.com/a-/AOh14GhT5e7MnDmh2dcfNhKDOV8oRoeRJVinedzmD2Su=s64",
      "userId": "11062674699417926870"
     },
     "user_tz": -330
    },
    "id": "kOEVc6QXmuib",
    "outputId": "b7b668f5-8987-4e22-9b33-a8f5fc5aeaa2"
   },
   "outputs": [
    {
     "data": {
      "text/plain": [
       "(30, 28)"
      ]
     },
     "execution_count": 9,
     "metadata": {},
     "output_type": "execute_result"
    }
   ],
   "source": [
    "#dropping customer ID column from the dataset\n",
    "dataset=dataset.drop('ID',axis=1)\n",
    "dataset.shape"
   ]
  },
  {
   "cell_type": "code",
   "execution_count": 10,
   "metadata": {
    "colab": {
     "base_uri": "https://localhost:8080/"
    },
    "executionInfo": {
     "elapsed": 6,
     "status": "ok",
     "timestamp": 1638208772552,
     "user": {
      "displayName": "SKILLCATE",
      "photoUrl": "https://lh3.googleusercontent.com/a-/AOh14GhT5e7MnDmh2dcfNhKDOV8oRoeRJVinedzmD2Su=s64",
      "userId": "11062674699417926870"
     },
     "user_tz": -330
    },
    "id": "BWa-g8lXpUVX",
    "outputId": "6adddfcc-2442-49dc-8fed-4d91996699af"
   },
   "outputs": [
    {
     "data": {
      "text/plain": [
       "DerogCnt           0\n",
       "CollectCnt         0\n",
       "BanruptcyInd       0\n",
       "InqCnt06           0\n",
       "InqTimeLast        3\n",
       "InqFinanceCnt24    0\n",
       "TLTimeFirst        0\n",
       "TLTimeLast         0\n",
       "TLCnt03            0\n",
       "TLCnt12            0\n",
       "TLCnt24            0\n",
       "TLCnt              0\n",
       "TLSum              0\n",
       "TLMaxSum           0\n",
       "TLSatCnt           0\n",
       "TLDel60Cnt         0\n",
       "TLBadCnt24         0\n",
       "TL75UtilCnt        1\n",
       "TL50UtilCnt        1\n",
       "TLBalHCPct         0\n",
       "TLSatPct           0\n",
       "TLDel3060Cnt24     0\n",
       "TLDel90Cnt24       0\n",
       "TLDel60CntAll      0\n",
       "TLOpenPct          0\n",
       "TLBadDerogCnt      0\n",
       "TLDel60Cnt24       0\n",
       "TLOpen24Pct        0\n",
       "dtype: int64"
      ]
     },
     "execution_count": 10,
     "metadata": {},
     "output_type": "execute_result"
    }
   ],
   "source": [
    "# explore missing values\n",
    "dataset.isna().sum()"
   ]
  },
  {
   "cell_type": "code",
   "execution_count": 11,
   "metadata": {
    "executionInfo": {
     "elapsed": 637,
     "status": "ok",
     "timestamp": 1638208773184,
     "user": {
      "displayName": "SKILLCATE",
      "photoUrl": "https://lh3.googleusercontent.com/a-/AOh14GhT5e7MnDmh2dcfNhKDOV8oRoeRJVinedzmD2Su=s64",
      "userId": "11062674699417926870"
     },
     "user_tz": -330
    },
    "id": "iwg__6smjkb4"
   },
   "outputs": [],
   "source": [
    "# filling missing values with mean\n",
    "dataset=dataset.fillna(dataset.mean())"
   ]
  },
  {
   "cell_type": "code",
   "execution_count": 12,
   "metadata": {
    "colab": {
     "base_uri": "https://localhost:8080/"
    },
    "executionInfo": {
     "elapsed": 18,
     "status": "ok",
     "timestamp": 1638208773185,
     "user": {
      "displayName": "SKILLCATE",
      "photoUrl": "https://lh3.googleusercontent.com/a-/AOh14GhT5e7MnDmh2dcfNhKDOV8oRoeRJVinedzmD2Su=s64",
      "userId": "11062674699417926870"
     },
     "user_tz": -330
    },
    "id": "Js3lP_KAm5-q",
    "outputId": "b7993a37-3099-49a6-f870-1597850cee3e"
   },
   "outputs": [
    {
     "data": {
      "text/plain": [
       "DerogCnt           0\n",
       "CollectCnt         0\n",
       "BanruptcyInd       0\n",
       "InqCnt06           0\n",
       "InqTimeLast        0\n",
       "InqFinanceCnt24    0\n",
       "TLTimeFirst        0\n",
       "TLTimeLast         0\n",
       "TLCnt03            0\n",
       "TLCnt12            0\n",
       "TLCnt24            0\n",
       "TLCnt              0\n",
       "TLSum              0\n",
       "TLMaxSum           0\n",
       "TLSatCnt           0\n",
       "TLDel60Cnt         0\n",
       "TLBadCnt24         0\n",
       "TL75UtilCnt        0\n",
       "TL50UtilCnt        0\n",
       "TLBalHCPct         0\n",
       "TLSatPct           0\n",
       "TLDel3060Cnt24     0\n",
       "TLDel90Cnt24       0\n",
       "TLDel60CntAll      0\n",
       "TLOpenPct          0\n",
       "TLBadDerogCnt      0\n",
       "TLDel60Cnt24       0\n",
       "TLOpen24Pct        0\n",
       "dtype: int64"
      ]
     },
     "execution_count": 12,
     "metadata": {},
     "output_type": "execute_result"
    }
   ],
   "source": [
    "# explore missing values post missing value fix\n",
    "dataset.isna().sum()"
   ]
  },
  {
   "cell_type": "markdown",
   "metadata": {
    "id": "3Ib6drIfoGym"
   },
   "source": [
    "### Train Test Split"
   ]
  },
  {
   "cell_type": "code",
   "execution_count": 13,
   "metadata": {
    "executionInfo": {
     "elapsed": 13,
     "status": "ok",
     "timestamp": 1638208773185,
     "user": {
      "displayName": "SKILLCATE",
      "photoUrl": "https://lh3.googleusercontent.com/a-/AOh14GhT5e7MnDmh2dcfNhKDOV8oRoeRJVinedzmD2Su=s64",
      "userId": "11062674699417926870"
     },
     "user_tz": -330
    },
    "id": "X9Fdr5ktkr5O"
   },
   "outputs": [],
   "source": [
    "X_fresh = dataset"
   ]
  },
  {
   "cell_type": "code",
   "execution_count": 14,
   "metadata": {
    "executionInfo": {
     "elapsed": 11,
     "status": "ok",
     "timestamp": 1638208773185,
     "user": {
      "displayName": "SKILLCATE",
      "photoUrl": "https://lh3.googleusercontent.com/a-/AOh14GhT5e7MnDmh2dcfNhKDOV8oRoeRJVinedzmD2Su=s64",
      "userId": "11062674699417926870"
     },
     "user_tz": -330
    },
    "id": "Si3h_hjpvWW8"
   },
   "outputs": [],
   "source": [
    "# Loading normalisation coefficients - exported from the model code file as f2_Normalisation \n",
    "\n",
    "import joblib\n",
    "\n",
    "sc = joblib.load('./f2_Normalisation_CreditScoring')"
   ]
  },
  {
   "cell_type": "code",
   "execution_count": 17,
   "metadata": {
    "colab": {
     "base_uri": "https://localhost:8080/"
    },
    "executionInfo": {
     "elapsed": 10,
     "status": "ok",
     "timestamp": 1638208773185,
     "user": {
      "displayName": "SKILLCATE",
      "photoUrl": "https://lh3.googleusercontent.com/a-/AOh14GhT5e7MnDmh2dcfNhKDOV8oRoeRJVinedzmD2Su=s64",
      "userId": "11062674699417926870"
     },
     "user_tz": -330
    },
    "id": "K4tOqu1WoPNv",
    "outputId": "7dfbe0bf-2252-4e81-ad4a-1f1aa9ee0833"
   },
   "outputs": [],
   "source": [
    "X_fresh = sc.transform(X_fresh)"
   ]
  },
  {
   "cell_type": "markdown",
   "metadata": {
    "id": "07xCSknToWAs"
   },
   "source": [
    "### Risk Model building"
   ]
  },
  {
   "cell_type": "code",
   "execution_count": 18,
   "metadata": {
    "executionInfo": {
     "elapsed": 9,
     "status": "ok",
     "timestamp": 1638208773186,
     "user": {
      "displayName": "SKILLCATE",
      "photoUrl": "https://lh3.googleusercontent.com/a-/AOh14GhT5e7MnDmh2dcfNhKDOV8oRoeRJVinedzmD2Su=s64",
      "userId": "11062674699417926870"
     },
     "user_tz": -330
    },
    "id": "AzhmlRiuw3ne"
   },
   "outputs": [],
   "source": [
    "# Loading Classifier file - exported from the model code file as f1_Classifier \n",
    "\n",
    "classifier = joblib.load('./f1_Classifier_CreditScoring')"
   ]
  },
  {
   "cell_type": "code",
   "execution_count": 19,
   "metadata": {
    "executionInfo": {
     "elapsed": 9,
     "status": "ok",
     "timestamp": 1638208773186,
     "user": {
      "displayName": "SKILLCATE",
      "photoUrl": "https://lh3.googleusercontent.com/a-/AOh14GhT5e7MnDmh2dcfNhKDOV8oRoeRJVinedzmD2Su=s64",
      "userId": "11062674699417926870"
     },
     "user_tz": -330
    },
    "id": "TGTPbyy_oR8t"
   },
   "outputs": [],
   "source": [
    "# Generating fresh Target values for new applications\n",
    "\n",
    "y_fresh = classifier.predict(X_fresh)"
   ]
  },
  {
   "cell_type": "markdown",
   "metadata": {
    "id": "OZpWU4xApREd"
   },
   "source": [
    "### Writing output file"
   ]
  },
  {
   "cell_type": "code",
   "execution_count": 20,
   "metadata": {
    "colab": {
     "base_uri": "https://localhost:8080/"
    },
    "executionInfo": {
     "elapsed": 9,
     "status": "ok",
     "timestamp": 1638208773186,
     "user": {
      "displayName": "SKILLCATE",
      "photoUrl": "https://lh3.googleusercontent.com/a-/AOh14GhT5e7MnDmh2dcfNhKDOV8oRoeRJVinedzmD2Su=s64",
      "userId": "11062674699417926870"
     },
     "user_tz": -330
    },
    "id": "21MQHzgDx676",
    "outputId": "6419158b-af78-4267-bd81-51c435d783e0"
   },
   "outputs": [
    {
     "data": {
      "text/plain": [
       "array([[0.00000000e+00, 1.00000000e+00],\n",
       "       [0.00000000e+00, 1.00000000e+00],\n",
       "       [0.00000000e+00, 1.00000000e+00],\n",
       "       [1.00000000e+00, 4.05088835e-32],\n",
       "       [0.00000000e+00, 1.00000000e+00],\n",
       "       [1.00000000e+00, 1.14217882e-49],\n",
       "       [0.00000000e+00, 1.00000000e+00],\n",
       "       [0.00000000e+00, 1.00000000e+00],\n",
       "       [0.00000000e+00, 1.00000000e+00],\n",
       "       [0.00000000e+00, 1.00000000e+00],\n",
       "       [0.00000000e+00, 1.00000000e+00],\n",
       "       [0.00000000e+00, 1.00000000e+00],\n",
       "       [0.00000000e+00, 1.00000000e+00],\n",
       "       [0.00000000e+00, 1.00000000e+00],\n",
       "       [0.00000000e+00, 1.00000000e+00],\n",
       "       [0.00000000e+00, 1.00000000e+00],\n",
       "       [0.00000000e+00, 1.00000000e+00],\n",
       "       [1.00000000e+00, 3.69262795e-84],\n",
       "       [0.00000000e+00, 1.00000000e+00],\n",
       "       [0.00000000e+00, 1.00000000e+00],\n",
       "       [0.00000000e+00, 1.00000000e+00],\n",
       "       [0.00000000e+00, 1.00000000e+00],\n",
       "       [0.00000000e+00, 1.00000000e+00],\n",
       "       [0.00000000e+00, 1.00000000e+00],\n",
       "       [0.00000000e+00, 1.00000000e+00],\n",
       "       [0.00000000e+00, 1.00000000e+00],\n",
       "       [0.00000000e+00, 1.00000000e+00],\n",
       "       [0.00000000e+00, 1.00000000e+00],\n",
       "       [0.00000000e+00, 1.00000000e+00],\n",
       "       [0.00000000e+00, 1.00000000e+00]])"
      ]
     },
     "execution_count": 20,
     "metadata": {},
     "output_type": "execute_result"
    }
   ],
   "source": [
    "predictions = classifier.predict_proba(X_fresh)\n",
    "predictions"
   ]
  },
  {
   "cell_type": "code",
   "execution_count": 21,
   "metadata": {
    "colab": {
     "base_uri": "https://localhost:8080/",
     "height": 400
    },
    "executionInfo": {
     "elapsed": 7,
     "status": "ok",
     "timestamp": 1638208773186,
     "user": {
      "displayName": "SKILLCATE",
      "photoUrl": "https://lh3.googleusercontent.com/a-/AOh14GhT5e7MnDmh2dcfNhKDOV8oRoeRJVinedzmD2Su=s64",
      "userId": "11062674699417926870"
     },
     "user_tz": -330
    },
    "id": "QZZCWhsipijJ",
    "outputId": "2757300a-dba0-4e3e-e127-f5d6e41d01f4"
   },
   "outputs": [
    {
     "data": {
      "text/html": [
       "<div>\n",
       "<style scoped>\n",
       "    .dataframe tbody tr th:only-of-type {\n",
       "        vertical-align: middle;\n",
       "    }\n",
       "\n",
       "    .dataframe tbody tr th {\n",
       "        vertical-align: top;\n",
       "    }\n",
       "\n",
       "    .dataframe thead th {\n",
       "        text-align: right;\n",
       "    }\n",
       "</style>\n",
       "<table border=\"1\" class=\"dataframe\">\n",
       "  <thead>\n",
       "    <tr style=\"text-align: right;\">\n",
       "      <th></th>\n",
       "      <th>Predicted Outcome</th>\n",
       "      <th>prob_0</th>\n",
       "      <th>prob_1</th>\n",
       "      <th>DerogCnt</th>\n",
       "      <th>CollectCnt</th>\n",
       "      <th>BanruptcyInd</th>\n",
       "      <th>InqCnt06</th>\n",
       "      <th>InqTimeLast</th>\n",
       "      <th>InqFinanceCnt24</th>\n",
       "      <th>TLTimeFirst</th>\n",
       "      <th>...</th>\n",
       "      <th>TL50UtilCnt</th>\n",
       "      <th>TLBalHCPct</th>\n",
       "      <th>TLSatPct</th>\n",
       "      <th>TLDel3060Cnt24</th>\n",
       "      <th>TLDel90Cnt24</th>\n",
       "      <th>TLDel60CntAll</th>\n",
       "      <th>TLOpenPct</th>\n",
       "      <th>TLBadDerogCnt</th>\n",
       "      <th>TLDel60Cnt24</th>\n",
       "      <th>TLOpen24Pct</th>\n",
       "    </tr>\n",
       "  </thead>\n",
       "  <tbody>\n",
       "    <tr>\n",
       "      <th>0</th>\n",
       "      <td>1</td>\n",
       "      <td>0.0</td>\n",
       "      <td>1.000000e+00</td>\n",
       "      <td>3.000000e+00</td>\n",
       "      <td>2.000000e+00</td>\n",
       "      <td>2.824130e-16</td>\n",
       "      <td>4.896084e-16</td>\n",
       "      <td>11.00000</td>\n",
       "      <td>2.808864e-16</td>\n",
       "      <td>90.0</td>\n",
       "      <td>...</td>\n",
       "      <td>2.0</td>\n",
       "      <td>8.645000e-01</td>\n",
       "      <td>1.667000e-01</td>\n",
       "      <td>2.000000e+00</td>\n",
       "      <td>2.000000e+00</td>\n",
       "      <td>4.000000e+00</td>\n",
       "      <td>0.2500</td>\n",
       "      <td>3.000000e+00</td>\n",
       "      <td>3.000000e+00</td>\n",
       "      <td>1.000000e+00</td>\n",
       "    </tr>\n",
       "    <tr>\n",
       "      <th>1</th>\n",
       "      <td>1</td>\n",
       "      <td>0.0</td>\n",
       "      <td>1.000000e+00</td>\n",
       "      <td>4.000000e+00</td>\n",
       "      <td>2.000000e+00</td>\n",
       "      <td>1.000000e+00</td>\n",
       "      <td>3.000000e+00</td>\n",
       "      <td>3.00000</td>\n",
       "      <td>2.000000e+00</td>\n",
       "      <td>221.0</td>\n",
       "      <td>...</td>\n",
       "      <td>2.0</td>\n",
       "      <td>6.774000e-01</td>\n",
       "      <td>3.333000e-01</td>\n",
       "      <td>5.870304e-16</td>\n",
       "      <td>2.000000e+00</td>\n",
       "      <td>5.000000e+00</td>\n",
       "      <td>0.2000</td>\n",
       "      <td>3.000000e+00</td>\n",
       "      <td>2.000000e+00</td>\n",
       "      <td>3.333000e-01</td>\n",
       "    </tr>\n",
       "    <tr>\n",
       "      <th>2</th>\n",
       "      <td>1</td>\n",
       "      <td>0.0</td>\n",
       "      <td>1.000000e+00</td>\n",
       "      <td>1.867950e-16</td>\n",
       "      <td>-4.676814e-17</td>\n",
       "      <td>2.824130e-16</td>\n",
       "      <td>1.100000e+01</td>\n",
       "      <td>1.00000</td>\n",
       "      <td>1.300000e+01</td>\n",
       "      <td>152.0</td>\n",
       "      <td>...</td>\n",
       "      <td>5.0</td>\n",
       "      <td>8.371000e-01</td>\n",
       "      <td>5.758000e-01</td>\n",
       "      <td>1.000000e+00</td>\n",
       "      <td>8.686801e-16</td>\n",
       "      <td>6.236678e-16</td>\n",
       "      <td>0.2121</td>\n",
       "      <td>6.500009e-16</td>\n",
       "      <td>-5.812018e-16</td>\n",
       "      <td>1.857100e+00</td>\n",
       "    </tr>\n",
       "    <tr>\n",
       "      <th>3</th>\n",
       "      <td>0</td>\n",
       "      <td>1.0</td>\n",
       "      <td>4.050888e-32</td>\n",
       "      <td>1.000000e+00</td>\n",
       "      <td>1.000000e+00</td>\n",
       "      <td>2.824130e-16</td>\n",
       "      <td>2.000000e+00</td>\n",
       "      <td>1.00000</td>\n",
       "      <td>4.000000e+00</td>\n",
       "      <td>206.0</td>\n",
       "      <td>...</td>\n",
       "      <td>4.0</td>\n",
       "      <td>-1.189292e-14</td>\n",
       "      <td>2.500000e-01</td>\n",
       "      <td>5.870304e-16</td>\n",
       "      <td>8.686801e-16</td>\n",
       "      <td>3.000000e+00</td>\n",
       "      <td>0.1250</td>\n",
       "      <td>1.000000e+00</td>\n",
       "      <td>-5.812018e-16</td>\n",
       "      <td>1.000000e+00</td>\n",
       "    </tr>\n",
       "    <tr>\n",
       "      <th>4</th>\n",
       "      <td>1</td>\n",
       "      <td>0.0</td>\n",
       "      <td>1.000000e+00</td>\n",
       "      <td>1.000000e+00</td>\n",
       "      <td>1.000000e+00</td>\n",
       "      <td>2.824130e-16</td>\n",
       "      <td>4.000000e+00</td>\n",
       "      <td>1.00000</td>\n",
       "      <td>5.000000e+00</td>\n",
       "      <td>152.0</td>\n",
       "      <td>...</td>\n",
       "      <td>2.0</td>\n",
       "      <td>8.892000e-01</td>\n",
       "      <td>2.500000e-01</td>\n",
       "      <td>2.000000e+00</td>\n",
       "      <td>1.000000e+00</td>\n",
       "      <td>2.000000e+00</td>\n",
       "      <td>0.7500</td>\n",
       "      <td>1.000000e+00</td>\n",
       "      <td>2.000000e+00</td>\n",
       "      <td>3.333000e-01</td>\n",
       "    </tr>\n",
       "    <tr>\n",
       "      <th>5</th>\n",
       "      <td>0</td>\n",
       "      <td>1.0</td>\n",
       "      <td>1.142179e-49</td>\n",
       "      <td>1.000000e+00</td>\n",
       "      <td>1.000000e+00</td>\n",
       "      <td>1.000000e+00</td>\n",
       "      <td>2.000000e+00</td>\n",
       "      <td>2.00000</td>\n",
       "      <td>2.808864e-16</td>\n",
       "      <td>124.0</td>\n",
       "      <td>...</td>\n",
       "      <td>4.0</td>\n",
       "      <td>1.027800e+00</td>\n",
       "      <td>5.000000e-01</td>\n",
       "      <td>5.870304e-16</td>\n",
       "      <td>8.686801e-16</td>\n",
       "      <td>2.000000e+00</td>\n",
       "      <td>0.6250</td>\n",
       "      <td>6.500009e-16</td>\n",
       "      <td>-5.812018e-16</td>\n",
       "      <td>1.000000e+00</td>\n",
       "    </tr>\n",
       "    <tr>\n",
       "      <th>6</th>\n",
       "      <td>1</td>\n",
       "      <td>0.0</td>\n",
       "      <td>1.000000e+00</td>\n",
       "      <td>1.867950e-16</td>\n",
       "      <td>-4.676814e-17</td>\n",
       "      <td>2.824130e-16</td>\n",
       "      <td>1.000000e+00</td>\n",
       "      <td>6.00000</td>\n",
       "      <td>4.000000e+00</td>\n",
       "      <td>102.0</td>\n",
       "      <td>...</td>\n",
       "      <td>11.0</td>\n",
       "      <td>9.173000e-01</td>\n",
       "      <td>4.348000e-01</td>\n",
       "      <td>3.000000e+00</td>\n",
       "      <td>4.000000e+00</td>\n",
       "      <td>4.000000e+00</td>\n",
       "      <td>0.6087</td>\n",
       "      <td>4.000000e+00</td>\n",
       "      <td>4.000000e+00</td>\n",
       "      <td>5.686424e-15</td>\n",
       "    </tr>\n",
       "    <tr>\n",
       "      <th>7</th>\n",
       "      <td>1</td>\n",
       "      <td>0.0</td>\n",
       "      <td>1.000000e+00</td>\n",
       "      <td>1.500000e+01</td>\n",
       "      <td>9.000000e+00</td>\n",
       "      <td>2.824130e-16</td>\n",
       "      <td>3.000000e+00</td>\n",
       "      <td>1.00000</td>\n",
       "      <td>3.000000e+00</td>\n",
       "      <td>14.0</td>\n",
       "      <td>...</td>\n",
       "      <td>1.0</td>\n",
       "      <td>8.000000e-01</td>\n",
       "      <td>1.659992e-14</td>\n",
       "      <td>5.870304e-16</td>\n",
       "      <td>8.686801e-16</td>\n",
       "      <td>6.236678e-16</td>\n",
       "      <td>1.0000</td>\n",
       "      <td>1.200000e+01</td>\n",
       "      <td>-5.812018e-16</td>\n",
       "      <td>1.000000e+00</td>\n",
       "    </tr>\n",
       "    <tr>\n",
       "      <th>8</th>\n",
       "      <td>1</td>\n",
       "      <td>0.0</td>\n",
       "      <td>1.000000e+00</td>\n",
       "      <td>1.867950e-16</td>\n",
       "      <td>-4.676814e-17</td>\n",
       "      <td>2.824130e-16</td>\n",
       "      <td>4.896084e-16</td>\n",
       "      <td>2.62963</td>\n",
       "      <td>2.808864e-16</td>\n",
       "      <td>110.0</td>\n",
       "      <td>...</td>\n",
       "      <td>1.0</td>\n",
       "      <td>7.465000e-01</td>\n",
       "      <td>4.286000e-01</td>\n",
       "      <td>5.870304e-16</td>\n",
       "      <td>1.000000e+00</td>\n",
       "      <td>2.000000e+00</td>\n",
       "      <td>0.4286</td>\n",
       "      <td>1.000000e+00</td>\n",
       "      <td>1.000000e+00</td>\n",
       "      <td>5.686424e-15</td>\n",
       "    </tr>\n",
       "    <tr>\n",
       "      <th>9</th>\n",
       "      <td>1</td>\n",
       "      <td>0.0</td>\n",
       "      <td>1.000000e+00</td>\n",
       "      <td>1.867950e-16</td>\n",
       "      <td>-4.676814e-17</td>\n",
       "      <td>2.824130e-16</td>\n",
       "      <td>1.000000e+00</td>\n",
       "      <td>5.00000</td>\n",
       "      <td>1.000000e+00</td>\n",
       "      <td>354.0</td>\n",
       "      <td>...</td>\n",
       "      <td>5.0</td>\n",
       "      <td>3.552000e-01</td>\n",
       "      <td>6.538000e-01</td>\n",
       "      <td>5.870304e-16</td>\n",
       "      <td>1.000000e+00</td>\n",
       "      <td>1.000000e+00</td>\n",
       "      <td>0.7308</td>\n",
       "      <td>1.000000e+00</td>\n",
       "      <td>1.000000e+00</td>\n",
       "      <td>5.263000e-01</td>\n",
       "    </tr>\n",
       "  </tbody>\n",
       "</table>\n",
       "<p>10 rows × 31 columns</p>\n",
       "</div>"
      ],
      "text/plain": [
       "   Predicted Outcome  prob_0        prob_1      DerogCnt    CollectCnt  \\\n",
       "0                  1     0.0  1.000000e+00  3.000000e+00  2.000000e+00   \n",
       "1                  1     0.0  1.000000e+00  4.000000e+00  2.000000e+00   \n",
       "2                  1     0.0  1.000000e+00  1.867950e-16 -4.676814e-17   \n",
       "3                  0     1.0  4.050888e-32  1.000000e+00  1.000000e+00   \n",
       "4                  1     0.0  1.000000e+00  1.000000e+00  1.000000e+00   \n",
       "5                  0     1.0  1.142179e-49  1.000000e+00  1.000000e+00   \n",
       "6                  1     0.0  1.000000e+00  1.867950e-16 -4.676814e-17   \n",
       "7                  1     0.0  1.000000e+00  1.500000e+01  9.000000e+00   \n",
       "8                  1     0.0  1.000000e+00  1.867950e-16 -4.676814e-17   \n",
       "9                  1     0.0  1.000000e+00  1.867950e-16 -4.676814e-17   \n",
       "\n",
       "   BanruptcyInd      InqCnt06  InqTimeLast  InqFinanceCnt24  TLTimeFirst  ...  \\\n",
       "0  2.824130e-16  4.896084e-16     11.00000     2.808864e-16         90.0  ...   \n",
       "1  1.000000e+00  3.000000e+00      3.00000     2.000000e+00        221.0  ...   \n",
       "2  2.824130e-16  1.100000e+01      1.00000     1.300000e+01        152.0  ...   \n",
       "3  2.824130e-16  2.000000e+00      1.00000     4.000000e+00        206.0  ...   \n",
       "4  2.824130e-16  4.000000e+00      1.00000     5.000000e+00        152.0  ...   \n",
       "5  1.000000e+00  2.000000e+00      2.00000     2.808864e-16        124.0  ...   \n",
       "6  2.824130e-16  1.000000e+00      6.00000     4.000000e+00        102.0  ...   \n",
       "7  2.824130e-16  3.000000e+00      1.00000     3.000000e+00         14.0  ...   \n",
       "8  2.824130e-16  4.896084e-16      2.62963     2.808864e-16        110.0  ...   \n",
       "9  2.824130e-16  1.000000e+00      5.00000     1.000000e+00        354.0  ...   \n",
       "\n",
       "   TL50UtilCnt    TLBalHCPct      TLSatPct  TLDel3060Cnt24  TLDel90Cnt24  \\\n",
       "0          2.0  8.645000e-01  1.667000e-01    2.000000e+00  2.000000e+00   \n",
       "1          2.0  6.774000e-01  3.333000e-01    5.870304e-16  2.000000e+00   \n",
       "2          5.0  8.371000e-01  5.758000e-01    1.000000e+00  8.686801e-16   \n",
       "3          4.0 -1.189292e-14  2.500000e-01    5.870304e-16  8.686801e-16   \n",
       "4          2.0  8.892000e-01  2.500000e-01    2.000000e+00  1.000000e+00   \n",
       "5          4.0  1.027800e+00  5.000000e-01    5.870304e-16  8.686801e-16   \n",
       "6         11.0  9.173000e-01  4.348000e-01    3.000000e+00  4.000000e+00   \n",
       "7          1.0  8.000000e-01  1.659992e-14    5.870304e-16  8.686801e-16   \n",
       "8          1.0  7.465000e-01  4.286000e-01    5.870304e-16  1.000000e+00   \n",
       "9          5.0  3.552000e-01  6.538000e-01    5.870304e-16  1.000000e+00   \n",
       "\n",
       "   TLDel60CntAll  TLOpenPct  TLBadDerogCnt  TLDel60Cnt24   TLOpen24Pct  \n",
       "0   4.000000e+00     0.2500   3.000000e+00  3.000000e+00  1.000000e+00  \n",
       "1   5.000000e+00     0.2000   3.000000e+00  2.000000e+00  3.333000e-01  \n",
       "2   6.236678e-16     0.2121   6.500009e-16 -5.812018e-16  1.857100e+00  \n",
       "3   3.000000e+00     0.1250   1.000000e+00 -5.812018e-16  1.000000e+00  \n",
       "4   2.000000e+00     0.7500   1.000000e+00  2.000000e+00  3.333000e-01  \n",
       "5   2.000000e+00     0.6250   6.500009e-16 -5.812018e-16  1.000000e+00  \n",
       "6   4.000000e+00     0.6087   4.000000e+00  4.000000e+00  5.686424e-15  \n",
       "7   6.236678e-16     1.0000   1.200000e+01 -5.812018e-16  1.000000e+00  \n",
       "8   2.000000e+00     0.4286   1.000000e+00  1.000000e+00  5.686424e-15  \n",
       "9   1.000000e+00     0.7308   1.000000e+00  1.000000e+00  5.263000e-01  \n",
       "\n",
       "[10 rows x 31 columns]"
      ]
     },
     "execution_count": 21,
     "metadata": {},
     "output_type": "execute_result"
    }
   ],
   "source": [
    "# writing model output file\n",
    "\n",
    "df_prediction_prob = pd.DataFrame(predictions, columns = ['prob_0', 'prob_1'])\n",
    "df_test_dataset = pd.DataFrame(X_fresh, columns = dataset.columns)\n",
    "df_prediction_target = pd.DataFrame(y_fresh,columns= ['Predicted Outcome'])\n",
    "\n",
    "dfx=pd.concat([df_prediction_target, df_prediction_prob, df_test_dataset], axis=1)\n",
    "\n",
    "dfx.to_csv(\"C:/Users/Gonzalez/Documents/dataScience/Project1_Credit_Scoring-20230122T180707Z-001/Project1_Credit_Scoring/f4_NewApplications_CreditScore_Predictions.xlsx\", sep=',', encoding='UTF-8')\n",
    "\n",
    "dfx.head(10)"
   ]
  },
  {
   "cell_type": "markdown",
   "metadata": {
    "id": "MGdYvDbIDVny"
   },
   "source": [
    "### Coding ends here!"
   ]
  }
 ],
 "metadata": {
  "colab": {
   "authorship_tag": "ABX9TyMb+gcsAkHMniJYlPat7LOY",
   "collapsed_sections": [],
   "mount_file_id": "1pd39RJk0kcIKm3WrejNtXoDiW9IWjOfD",
   "name": "f3_NewApplications_CreditScore_Predictions.ipynb",
   "provenance": [
    {
     "file_id": "1pd39RJk0kcIKm3WrejNtXoDiW9IWjOfD",
     "timestamp": 1612685590437
    }
   ],
   "toc_visible": true
  },
  "kernelspec": {
   "display_name": "Python 3 (ipykernel)",
   "language": "python",
   "name": "python3"
  },
  "language_info": {
   "codemirror_mode": {
    "name": "ipython",
    "version": 3
   },
   "file_extension": ".py",
   "mimetype": "text/x-python",
   "name": "python",
   "nbconvert_exporter": "python",
   "pygments_lexer": "ipython3",
   "version": "3.9.13"
  }
 },
 "nbformat": 4,
 "nbformat_minor": 1
}
